{
 "cells": [
  {
   "cell_type": "code",
   "execution_count": 1,
   "metadata": {},
   "outputs": [
    {
     "name": "stderr",
     "output_type": "stream",
     "text": [
      "/opt/conda/lib/python3.7/site-packages/tqdm/auto.py:22: TqdmWarning: IProgress not found. Please update jupyter and ipywidgets. See https://ipywidgets.readthedocs.io/en/stable/user_install.html\n",
      "  from .autonotebook import tqdm as notebook_tqdm\n"
     ]
    }
   ],
   "source": [
    "import numpy as np\n",
    "import torch"
   ]
  },
  {
   "cell_type": "code",
   "execution_count": 2,
   "metadata": {},
   "outputs": [
    {
     "data": {
      "text/plain": [
       "True"
      ]
     },
     "execution_count": 2,
     "metadata": {},
     "output_type": "execute_result"
    }
   ],
   "source": [
    "torch.cuda.is_available()"
   ]
  },
  {
   "cell_type": "code",
   "execution_count": 3,
   "metadata": {},
   "outputs": [
    {
     "data": {
      "text/plain": [
       "tensor([[0.]], device='cuda:0')"
      ]
     },
     "execution_count": 3,
     "metadata": {},
     "output_type": "execute_result"
    }
   ],
   "source": [
    "torch.zeros((3,1)).T.cuda() @ torch.ones((3,1)).cuda()"
   ]
  },
  {
   "cell_type": "code",
   "execution_count": 4,
   "metadata": {},
   "outputs": [],
   "source": [
    "import os\n",
    "from torchvision.io import read_image\n",
    "from torchvision import datasets\n",
    "from torch.utils.data import Dataset\n",
    "from torchvision.transforms import ToTensor\n",
    "import matplotlib.pyplot as plt\n",
    "import pandas as pd"
   ]
  },
  {
   "cell_type": "code",
   "execution_count": 5,
   "metadata": {},
   "outputs": [],
   "source": [
    "class CustomImageDataset(Dataset):\n",
    "    def __init__(self, annotations_file, img_dir, transform=None, target_transform=None):\n",
    "        self.img_labels = pd.read_csv(annotations_file)\n",
    "        self.img_dir = img_dir\n",
    "        self.transform = transform\n",
    "        self.target_transform = target_transform\n",
    "\n",
    "    def __len__(self):\n",
    "        return len(self.img_labels)\n",
    "\n",
    "    def __getitem__(self, idx):\n",
    "        img_path = os.path.join(self.img_dir, self.img_labels.iloc[idx, 0])\n",
    "        image = read_image(img_path)\n",
    "        label = self.img_labels.iloc[idx, 1]\n",
    "        if self.transform:\n",
    "            image = self.transform(image)\n",
    "        if self.target_transform:\n",
    "            label = self.target_transform(label)\n",
    "        return image, label"
   ]
  },
  {
   "cell_type": "code",
   "execution_count": 6,
   "metadata": {},
   "outputs": [
    {
     "data": {
      "text/plain": [
       "(             stamp                  name\n",
       " 0     1.540823e+09     img/image_0_0.png\n",
       " 1     1.540823e+09     img/image_0_1.png\n",
       " 2     1.540823e+09     img/image_0_2.png\n",
       " 3     1.540823e+09     img/image_0_3.png\n",
       " 4     1.540823e+09     img/image_0_4.png\n",
       " ...            ...                   ...\n",
       " 2063  1.540823e+09  img/image_0_2063.png\n",
       " 2064  1.540823e+09  img/image_0_2064.png\n",
       " 2065  1.540823e+09  img/image_0_2065.png\n",
       " 2066  1.540823e+09  img/image_0_2066.png\n",
       " 2067  1.540823e+09  img/image_0_2067.png\n",
       " \n",
       " [2068 rows x 2 columns],\n",
       " 2068)"
      ]
     },
     "execution_count": 6,
     "metadata": {},
     "output_type": "execute_result"
    }
   ],
   "source": [
    "data_dir = \"indoor_forward_9_snapdragon_with_gt/\"\n",
    "colnames=[\"stamp\",\"name\",\"none\"]\n",
    "my_data = pd.read_csv(data_dir + \"left_images.txt\", delimiter=' ', skiprows=1, names=colnames)\n",
    "my_data = my_data.iloc[: , :-1]\n",
    "my_data, len(my_data)"
   ]
  },
  {
   "cell_type": "code",
   "execution_count": 7,
   "metadata": {},
   "outputs": [
    {
     "data": {
      "text/plain": [
       "1.0"
      ]
     },
     "execution_count": 7,
     "metadata": {},
     "output_type": "execute_result"
    }
   ],
   "source": [
    "np.linalg.det(np.eye(3))"
   ]
  },
  {
   "cell_type": "code",
   "execution_count": 11,
   "metadata": {},
   "outputs": [],
   "source": [
    "import transforms3d"
   ]
  },
  {
   "cell_type": "code",
   "execution_count": 18,
   "metadata": {},
   "outputs": [
    {
     "data": {
      "text/plain": [
       "0.9999999999999999"
      ]
     },
     "execution_count": 18,
     "metadata": {},
     "output_type": "execute_result"
    }
   ],
   "source": [
    "alpha, beta, gamma = 0.123, -1.234, 2.345\n",
    "origin, xaxis, yaxis, zaxis = [0, 0, 0], [1, 0, 0], [0, 1, 0], [0, 0, 1]\n",
    "R = transforms3d.euler.euler2mat(alpha, beta, gamma)\n",
    "np.linalg.det(R) # this could be enforced in loss function ? : )"
   ]
  },
  {
   "cell_type": "code",
   "execution_count": 42,
   "metadata": {},
   "outputs": [
    {
     "data": {
      "text/plain": [
       "1.0007935808296207"
      ]
     },
     "execution_count": 42,
     "metadata": {},
     "output_type": "execute_result"
    }
   ],
   "source": [
    "# R = transforms3d.euler.euler2mat(alpha, beta, gamma)\n",
    "R = np.random.rand(3,3)\n",
    "R = torch.tensor(R, requires_grad=True)\n",
    "Dloss = torch.norm(1 - R.det(),2)\n",
    "Dloss.backward()\n",
    "\n",
    "Dloss.item()"
   ]
  },
  {
   "cell_type": "code",
   "execution_count": 47,
   "metadata": {},
   "outputs": [
    {
     "data": {
      "text/plain": [
       "1.0"
      ]
     },
     "execution_count": 47,
     "metadata": {},
     "output_type": "execute_result"
    }
   ],
   "source": [
    "np.linalg.norm([0.00712511541035951,-0.00599798947503901,0.890495788939425,-0.45489614939434]) # quaternion sample"
   ]
  },
  {
   "cell_type": "code",
   "execution_count": 50,
   "metadata": {},
   "outputs": [],
   "source": [
    "# Td = T0**(-1) T1 could only take deltas of x,y and include those into loss function seperately\n",
    "# the altitude & orientation could be mapped directly from the images, even from single instance. : )\n",
    "# so the total loss function would be:\n",
    "# loss = norm(1 - norm(q)) + norm(gt_q - q) + norm(gt_dx_dy - dx_dy) + norm(gt_z - z)\n",
    "\n",
    "# could use padding to input variable length events ?"
   ]
  },
  {
   "cell_type": "code",
   "execution_count": null,
   "metadata": {},
   "outputs": [],
   "source": [
    "data_dir = \"indoor_forward_9_davis_with_gt/\"\n",
    "colnames=[\"stamp\",\"name\",\"none\"]\n",
    "my_data = pd.read_csv(data_dir + \"events.txt\", delimiter=' ', skiprows=1, names=colnames)\n",
    "my_data = my_data.iloc[: , :-1]\n",
    "my_data, len(my_data)"
   ]
  }
 ],
 "metadata": {
  "kernelspec": {
   "display_name": "Python 3.7.13 ('base')",
   "language": "python",
   "name": "python3"
  },
  "language_info": {
   "codemirror_mode": {
    "name": "ipython",
    "version": 3
   },
   "file_extension": ".py",
   "mimetype": "text/x-python",
   "name": "python",
   "nbconvert_exporter": "python",
   "pygments_lexer": "ipython3",
   "version": "3.7.13"
  },
  "orig_nbformat": 4,
  "vscode": {
   "interpreter": {
    "hash": "d4d1e4263499bec80672ea0156c357c1ee493ec2b1c70f0acce89fc37c4a6abe"
   }
  }
 },
 "nbformat": 4,
 "nbformat_minor": 2
}
